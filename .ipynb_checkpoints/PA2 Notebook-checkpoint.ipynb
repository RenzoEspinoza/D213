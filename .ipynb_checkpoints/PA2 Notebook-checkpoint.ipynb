{
 "cells": [
  {
   "cell_type": "markdown",
   "id": "6b90b96a",
   "metadata": {},
   "source": [
    "# D213 Performance Assessment NLM2 Task 1 by Renzo Espinoza"
   ]
  },
  {
   "cell_type": "markdown",
   "id": "88f62fe4",
   "metadata": {},
   "source": [
    "# Part I: Research Question"
   ]
  },
  {
   "cell_type": "markdown",
   "id": "fa64ade2",
   "metadata": {},
   "source": [
    "## A1."
   ]
  },
  {
   "cell_type": "markdown",
   "id": "5762eaec",
   "metadata": {},
   "source": [
    "### Research Question:\n"
   ]
  },
  {
   "cell_type": "markdown",
   "id": "8f211490",
   "metadata": {},
   "source": [
    "Can we accurately predict the sentiment of a user's review as either positive or negative using past reviews from IMDb, Yelp, and Amazon?"
   ]
  },
  {
   "cell_type": "markdown",
   "id": "f2656d70",
   "metadata": {},
   "source": [
    "# Part II: Data Preparation"
   ]
  },
  {
   "cell_type": "code",
   "execution_count": 225,
   "id": "dc2499df",
   "metadata": {},
   "outputs": [],
   "source": [
    "import pandas as pd\n",
    "import numpy as np\n",
    "import seaborn as sns\n",
    "import matplotlib.pyplot as plt\n",
    "from nltk import download\n",
    "from nltk.corpus import stopwords\n",
    "import re\n",
    "from sklearn.model_selection import train_test_split\n",
    "from tensorflow.keras.preprocessing.text import Tokenizer\n",
    "from tensorflow.keras.preprocessing.sequence import pad_sequences\n",
    "from tensorflow.keras import layers\n",
    "from tensorflow.keras import optimizers\n",
    "from tensorflow.keras.models import Sequential\n",
    "from tensorflow.random import set_seed\n",
    "from tensorflow.keras.callbacks import EarlyStopping\n",
    "import keras_tuner as kt"
   ]
  },
  {
   "cell_type": "code",
   "execution_count": 4,
   "id": "f26b350a",
   "metadata": {
    "scrolled": false
   },
   "outputs": [],
   "source": [
    "amazon_df = pd.read_csv('amazon_cells_labelled.txt', sep='\\t', names=['review', 'score'])\n",
    "amazon_df['source'] = 'Amazon'"
   ]
  },
  {
   "cell_type": "code",
   "execution_count": 5,
   "id": "e8ef7f6f",
   "metadata": {
    "scrolled": false
   },
   "outputs": [],
   "source": [
    "imdb_df = pd.read_csv('imdb_labelled.txt', sep='\\t', names=['review', 'score'])\n",
    "imdb_df['source'] = 'IMDb'"
   ]
  },
  {
   "cell_type": "code",
   "execution_count": 6,
   "id": "ec9c73c7",
   "metadata": {
    "scrolled": false
   },
   "outputs": [],
   "source": [
    "yelp_df = pd.read_csv('yelp_labelled.txt', sep='\\t', names=['review', 'score'])\n",
    "yelp_df['source'] = 'Yelp'"
   ]
  },
  {
   "cell_type": "code",
   "execution_count": 7,
   "id": "9d3728cb",
   "metadata": {},
   "outputs": [
    {
     "data": {
      "text/plain": [
       "(1000, 3)"
      ]
     },
     "execution_count": 7,
     "metadata": {},
     "output_type": "execute_result"
    }
   ],
   "source": [
    "amazon_df.shape"
   ]
  },
  {
   "cell_type": "code",
   "execution_count": 8,
   "id": "4a3edb8a",
   "metadata": {},
   "outputs": [
    {
     "data": {
      "text/plain": [
       "(1000, 3)"
      ]
     },
     "execution_count": 8,
     "metadata": {},
     "output_type": "execute_result"
    }
   ],
   "source": [
    "imdb_df.shape"
   ]
  },
  {
   "cell_type": "markdown",
   "id": "4991ca72",
   "metadata": {},
   "source": [
    "A bit of manual data cleaning was needed for the imdb dataset, lines starting with quotation marks would cause several entries to become merged together"
   ]
  },
  {
   "cell_type": "code",
   "execution_count": 9,
   "id": "ab9873be",
   "metadata": {},
   "outputs": [
    {
     "data": {
      "text/plain": [
       "(1000, 3)"
      ]
     },
     "execution_count": 9,
     "metadata": {},
     "output_type": "execute_result"
    }
   ],
   "source": [
    "yelp_df.shape"
   ]
  },
  {
   "cell_type": "code",
   "execution_count": 10,
   "id": "46b7c185",
   "metadata": {},
   "outputs": [
    {
     "data": {
      "text/html": [
       "<div>\n",
       "<style scoped>\n",
       "    .dataframe tbody tr th:only-of-type {\n",
       "        vertical-align: middle;\n",
       "    }\n",
       "\n",
       "    .dataframe tbody tr th {\n",
       "        vertical-align: top;\n",
       "    }\n",
       "\n",
       "    .dataframe thead th {\n",
       "        text-align: right;\n",
       "    }\n",
       "</style>\n",
       "<table border=\"1\" class=\"dataframe\">\n",
       "  <thead>\n",
       "    <tr style=\"text-align: right;\">\n",
       "      <th></th>\n",
       "      <th>review</th>\n",
       "      <th>score</th>\n",
       "      <th>source</th>\n",
       "    </tr>\n",
       "  </thead>\n",
       "  <tbody>\n",
       "    <tr>\n",
       "      <th>0</th>\n",
       "      <td>So there is no way for me to plug it in here i...</td>\n",
       "      <td>0</td>\n",
       "      <td>Amazon</td>\n",
       "    </tr>\n",
       "    <tr>\n",
       "      <th>1</th>\n",
       "      <td>Good case, Excellent value.</td>\n",
       "      <td>1</td>\n",
       "      <td>Amazon</td>\n",
       "    </tr>\n",
       "    <tr>\n",
       "      <th>2</th>\n",
       "      <td>Great for the jawbone.</td>\n",
       "      <td>1</td>\n",
       "      <td>Amazon</td>\n",
       "    </tr>\n",
       "    <tr>\n",
       "      <th>3</th>\n",
       "      <td>Tied to charger for conversations lasting more...</td>\n",
       "      <td>0</td>\n",
       "      <td>Amazon</td>\n",
       "    </tr>\n",
       "    <tr>\n",
       "      <th>4</th>\n",
       "      <td>The mic is great.</td>\n",
       "      <td>1</td>\n",
       "      <td>Amazon</td>\n",
       "    </tr>\n",
       "    <tr>\n",
       "      <th>...</th>\n",
       "      <td>...</td>\n",
       "      <td>...</td>\n",
       "      <td>...</td>\n",
       "    </tr>\n",
       "    <tr>\n",
       "      <th>2995</th>\n",
       "      <td>I think food should have flavor and texture an...</td>\n",
       "      <td>0</td>\n",
       "      <td>Yelp</td>\n",
       "    </tr>\n",
       "    <tr>\n",
       "      <th>2996</th>\n",
       "      <td>Appetite instantly gone.</td>\n",
       "      <td>0</td>\n",
       "      <td>Yelp</td>\n",
       "    </tr>\n",
       "    <tr>\n",
       "      <th>2997</th>\n",
       "      <td>Overall I was not impressed and would not go b...</td>\n",
       "      <td>0</td>\n",
       "      <td>Yelp</td>\n",
       "    </tr>\n",
       "    <tr>\n",
       "      <th>2998</th>\n",
       "      <td>The whole experience was underwhelming, and I ...</td>\n",
       "      <td>0</td>\n",
       "      <td>Yelp</td>\n",
       "    </tr>\n",
       "    <tr>\n",
       "      <th>2999</th>\n",
       "      <td>Then, as if I hadn't wasted enough of my life ...</td>\n",
       "      <td>0</td>\n",
       "      <td>Yelp</td>\n",
       "    </tr>\n",
       "  </tbody>\n",
       "</table>\n",
       "<p>3000 rows × 3 columns</p>\n",
       "</div>"
      ],
      "text/plain": [
       "                                                 review  score  source\n",
       "0     So there is no way for me to plug it in here i...      0  Amazon\n",
       "1                           Good case, Excellent value.      1  Amazon\n",
       "2                                Great for the jawbone.      1  Amazon\n",
       "3     Tied to charger for conversations lasting more...      0  Amazon\n",
       "4                                     The mic is great.      1  Amazon\n",
       "...                                                 ...    ...     ...\n",
       "2995  I think food should have flavor and texture an...      0    Yelp\n",
       "2996                           Appetite instantly gone.      0    Yelp\n",
       "2997  Overall I was not impressed and would not go b...      0    Yelp\n",
       "2998  The whole experience was underwhelming, and I ...      0    Yelp\n",
       "2999  Then, as if I hadn't wasted enough of my life ...      0    Yelp\n",
       "\n",
       "[3000 rows x 3 columns]"
      ]
     },
     "execution_count": 10,
     "metadata": {},
     "output_type": "execute_result"
    }
   ],
   "source": [
    "df = pd.concat([amazon_df, imdb_df, yelp_df], ignore_index=True)\n",
    "df"
   ]
  },
  {
   "cell_type": "code",
   "execution_count": 11,
   "id": "dc4aad21",
   "metadata": {},
   "outputs": [
    {
     "data": {
      "text/plain": [
       "<AxesSubplot: xlabel='source', ylabel='count'>"
      ]
     },
     "execution_count": 11,
     "metadata": {},
     "output_type": "execute_result"
    },
    {
     "data": {
      "image/png": "[encoded data removed]",
      "text/plain": [
       "<Figure size 640x480 with 1 Axes>"
      ]
     },
     "metadata": {},
     "output_type": "display_data"
    }
   ],
   "source": [
    "sns.countplot(df, x='source', hue='score')"
   ]
  },
  {
   "cell_type": "markdown",
   "id": "f3cebd92",
   "metadata": {},
   "source": [
    "## B1 a."
   ]
  },
  {
   "cell_type": "code",
   "execution_count": 12,
   "id": "180d1c3f",
   "metadata": {},
   "outputs": [],
   "source": [
    "df.review = df.review.str.lower()"
   ]
  },
  {
   "cell_type": "code",
   "execution_count": 13,
   "id": "401fbf11",
   "metadata": {},
   "outputs": [
    {
     "name": "stdout",
     "output_type": "stream",
     "text": [
      "['s', 'o', ' ', 't', 'h', 'e', 'r', 'i', 'n', 'w', 'a', 'y', 'f', 'm', 'p', 'l', 'u', 'g', 'b', 'c', 'v', '.', 'd', ',', 'x', 'j', '4', '5', '!', 'z', 'q', '+', '\"', 'k', \"'\", '/', '7', '3', '6', '8', '0', '2', '?', '-', '1', ':', ')', '(', '&', '$', '*', ';', '%', '9', '#', '[', ']', '\\x96', 'é', '\\x85', 'å', '\\x97', 'ê']\n"
     ]
    }
   ],
   "source": [
    "characters = []\n",
    "\n",
    "for review in df.review:\n",
    "    for character in review:\n",
    "        if character not in characters:\n",
    "            characters.append(character)\n",
    "            \n",
    "print(characters)"
   ]
  },
  {
   "cell_type": "code",
   "execution_count": 14,
   "id": "30b47659",
   "metadata": {},
   "outputs": [],
   "source": [
    "df.review.replace('[^A-Za-z ]+','',regex=True, inplace = True)"
   ]
  },
  {
   "cell_type": "code",
   "execution_count": 15,
   "id": "c2c80283",
   "metadata": {},
   "outputs": [
    {
     "name": "stdout",
     "output_type": "stream",
     "text": [
      "['s', 'o', ' ', 't', 'h', 'e', 'r', 'i', 'n', 'w', 'a', 'y', 'f', 'm', 'p', 'l', 'u', 'g', 'b', 'c', 'v', 'd', 'x', 'j', 'z', 'q', 'k']\n"
     ]
    }
   ],
   "source": [
    "characters = []\n",
    "\n",
    "for review in df.review:\n",
    "    for character in review:\n",
    "        if character not in characters:\n",
    "            characters.append(character)\n",
    "            \n",
    "print(characters)"
   ]
  },
  {
   "cell_type": "code",
   "execution_count": 16,
   "id": "7b25b2d8",
   "metadata": {},
   "outputs": [],
   "source": [
    "stop = stopwords.words('english')\n",
    "\n",
    "# Removes stop words from each row in 'review'\n",
    "df.review = df.review.apply(lambda review: \" \".join(word for word in review.split() if word not in stop))"
   ]
  },
  {
   "cell_type": "code",
   "execution_count": 17,
   "id": "2a5d2ada",
   "metadata": {},
   "outputs": [
    {
     "data": {
      "text/html": [
       "<div>\n",
       "<style scoped>\n",
       "    .dataframe tbody tr th:only-of-type {\n",
       "        vertical-align: middle;\n",
       "    }\n",
       "\n",
       "    .dataframe tbody tr th {\n",
       "        vertical-align: top;\n",
       "    }\n",
       "\n",
       "    .dataframe thead th {\n",
       "        text-align: right;\n",
       "    }\n",
       "</style>\n",
       "<table border=\"1\" class=\"dataframe\">\n",
       "  <thead>\n",
       "    <tr style=\"text-align: right;\">\n",
       "      <th></th>\n",
       "      <th>review</th>\n",
       "      <th>score</th>\n",
       "      <th>source</th>\n",
       "    </tr>\n",
       "  </thead>\n",
       "  <tbody>\n",
       "    <tr>\n",
       "      <th>0</th>\n",
       "      <td>way plug us unless go converter</td>\n",
       "      <td>0</td>\n",
       "      <td>Amazon</td>\n",
       "    </tr>\n",
       "    <tr>\n",
       "      <th>1</th>\n",
       "      <td>good case excellent value</td>\n",
       "      <td>1</td>\n",
       "      <td>Amazon</td>\n",
       "    </tr>\n",
       "    <tr>\n",
       "      <th>2</th>\n",
       "      <td>great jawbone</td>\n",
       "      <td>1</td>\n",
       "      <td>Amazon</td>\n",
       "    </tr>\n",
       "    <tr>\n",
       "      <th>3</th>\n",
       "      <td>tied charger conversations lasting minutes maj...</td>\n",
       "      <td>0</td>\n",
       "      <td>Amazon</td>\n",
       "    </tr>\n",
       "    <tr>\n",
       "      <th>4</th>\n",
       "      <td>mic great</td>\n",
       "      <td>1</td>\n",
       "      <td>Amazon</td>\n",
       "    </tr>\n",
       "    <tr>\n",
       "      <th>...</th>\n",
       "      <td>...</td>\n",
       "      <td>...</td>\n",
       "      <td>...</td>\n",
       "    </tr>\n",
       "    <tr>\n",
       "      <th>2995</th>\n",
       "      <td>think food flavor texture lacking</td>\n",
       "      <td>0</td>\n",
       "      <td>Yelp</td>\n",
       "    </tr>\n",
       "    <tr>\n",
       "      <th>2996</th>\n",
       "      <td>appetite instantly gone</td>\n",
       "      <td>0</td>\n",
       "      <td>Yelp</td>\n",
       "    </tr>\n",
       "    <tr>\n",
       "      <th>2997</th>\n",
       "      <td>overall impressed would go back</td>\n",
       "      <td>0</td>\n",
       "      <td>Yelp</td>\n",
       "    </tr>\n",
       "    <tr>\n",
       "      <th>2998</th>\n",
       "      <td>whole experience underwhelming think well go n...</td>\n",
       "      <td>0</td>\n",
       "      <td>Yelp</td>\n",
       "    </tr>\n",
       "    <tr>\n",
       "      <th>2999</th>\n",
       "      <td>hadnt wasted enough life poured salt wound dra...</td>\n",
       "      <td>0</td>\n",
       "      <td>Yelp</td>\n",
       "    </tr>\n",
       "  </tbody>\n",
       "</table>\n",
       "<p>3000 rows × 3 columns</p>\n",
       "</div>"
      ],
      "text/plain": [
       "                                                 review  score  source\n",
       "0                       way plug us unless go converter      0  Amazon\n",
       "1                             good case excellent value      1  Amazon\n",
       "2                                         great jawbone      1  Amazon\n",
       "3     tied charger conversations lasting minutes maj...      0  Amazon\n",
       "4                                             mic great      1  Amazon\n",
       "...                                                 ...    ...     ...\n",
       "2995                  think food flavor texture lacking      0    Yelp\n",
       "2996                            appetite instantly gone      0    Yelp\n",
       "2997                    overall impressed would go back      0    Yelp\n",
       "2998  whole experience underwhelming think well go n...      0    Yelp\n",
       "2999  hadnt wasted enough life poured salt wound dra...      0    Yelp\n",
       "\n",
       "[3000 rows x 3 columns]"
      ]
     },
     "execution_count": 17,
     "metadata": {},
     "output_type": "execute_result"
    }
   ],
   "source": [
    "df"
   ]
  },
  {
   "cell_type": "markdown",
   "id": "17c30cf0",
   "metadata": {},
   "source": [
    "An 80/10/10 train/val/test split is a good split to sart out with, according to: https://www.v7labs.com/blog/train-validation-test-set"
   ]
  },
  {
   "cell_type": "code",
   "execution_count": 18,
   "id": "ac0ce8f6",
   "metadata": {},
   "outputs": [],
   "source": [
    "x_train, x_test, y_train, y_test = train_test_split(df.review,df.score, train_size=0.7, stratify=df.score, random_state=2)\n",
    "x_val, x_test, y_val, y_test = train_test_split(x_test,y_test, test_size=0.5, stratify=y_test, random_state=2)"
   ]
  },
  {
   "cell_type": "markdown",
   "id": "55628a5d",
   "metadata": {},
   "source": [
    "## B1 b."
   ]
  },
  {
   "cell_type": "code",
   "execution_count": 19,
   "id": "36346e14",
   "metadata": {},
   "outputs": [],
   "source": [
    "tokenizer = Tokenizer(oov_token = 'OOV')\n",
    "tokenizer.fit_on_texts(x_train)"
   ]
  },
  {
   "cell_type": "code",
   "execution_count": 20,
   "id": "80139990",
   "metadata": {},
   "outputs": [
    {
     "name": "stdout",
     "output_type": "stream",
     "text": [
      "Vocabulary size : 4180\n"
     ]
    }
   ],
   "source": [
    "vocab_size = len(tokenizer.word_index) + 1\n",
    "print(f\"Vocabulary size : {vocab_size}\")"
   ]
  },
  {
   "cell_type": "markdown",
   "id": "bde9c076",
   "metadata": {},
   "source": [
    "## B1 c."
   ]
  },
  {
   "cell_type": "markdown",
   "id": "2b9a91ac",
   "metadata": {},
   "source": [
    "The word embedding length should be the fourth root of the vocabulary size, according to:\n",
    "https://developers.googleblog.com/2017/11/introducing-tensorflow-feature-columns.html"
   ]
  },
  {
   "cell_type": "code",
   "execution_count": 21,
   "id": "74e4c6b8",
   "metadata": {},
   "outputs": [
    {
     "name": "stdout",
     "output_type": "stream",
     "text": [
      "Word embedding length: 8\n"
     ]
    }
   ],
   "source": [
    "embedding_len = round(vocab_size ** .25)\n",
    "print(f\"Word embedding length: {embedding_len}\")"
   ]
  },
  {
   "cell_type": "markdown",
   "id": "91191ccc",
   "metadata": {},
   "source": [
    "## B1 d."
   ]
  },
  {
   "cell_type": "markdown",
   "id": "3849960b",
   "metadata": {},
   "source": [
    "# According to Caner Kilinc, the maximum sequence length should be set to the max amount of words in a sentence.\n",
    "https://medium.com/@canerkilinc/padding-for-nlp-7dd8598c916a"
   ]
  },
  {
   "cell_type": "code",
   "execution_count": 22,
   "id": "d64fd033",
   "metadata": {},
   "outputs": [
    {
     "name": "stdout",
     "output_type": "stream",
     "text": [
      "Max sequence length: 41\n"
     ]
    }
   ],
   "source": [
    "word_amount = []\n",
    "\n",
    "for sentence in df.review:\n",
    "    word_amount.append(len(sentence.split(' ')))\n",
    "    \n",
    "max_sequence_len = np.max(word_amount)\n",
    "print(f\"Max sequence length: {max_sequence_len}\")"
   ]
  },
  {
   "cell_type": "markdown",
   "id": "8acf60fc",
   "metadata": {},
   "source": [
    "## B2"
   ]
  },
  {
   "cell_type": "code",
   "execution_count": 23,
   "id": "7bbb1f0f",
   "metadata": {},
   "outputs": [],
   "source": [
    "tokenizer = Tokenizer(oov_token = 'OOV')\n",
    "tokenizer.fit_on_texts(x_train)\n",
    "\n",
    "sequences_train = tokenizer.texts_to_sequences(x_train)\n",
    "sequences_test = tokenizer.texts_to_sequences(x_test)\n",
    "sequences_val = tokenizer.texts_to_sequences(x_val)"
   ]
  },
  {
   "cell_type": "code",
   "execution_count": 24,
   "id": "9c0319f3",
   "metadata": {},
   "outputs": [
    {
     "data": {
      "text/plain": [
       "[101, 1588, 101]"
      ]
     },
     "execution_count": 24,
     "metadata": {},
     "output_type": "execute_result"
    }
   ],
   "source": [
    "sequences_train[0]"
   ]
  },
  {
   "cell_type": "markdown",
   "id": "9d528e97",
   "metadata": {},
   "source": [
    "## B3"
   ]
  },
  {
   "cell_type": "code",
   "execution_count": 25,
   "id": "42133c79",
   "metadata": {},
   "outputs": [],
   "source": [
    "padding_type = trunc_type = 'post'\n",
    "\n",
    "padded_train = pad_sequences(sequences_train, maxlen=max_sequence_len, padding=padding_type, truncating=trunc_type)\n",
    "\n",
    "padded_test = pad_sequences(sequences_test, maxlen=max_sequence_len, padding=padding_type, truncating=trunc_type)\n",
    "\n",
    "padded_val = pad_sequences(sequences_val, maxlen=max_sequence_len, padding=padding_type, truncating=trunc_type)"
   ]
  },
  {
   "cell_type": "code",
   "execution_count": 26,
   "id": "a221d937",
   "metadata": {},
   "outputs": [
    {
     "data": {
      "text/plain": [
       "array([ 101, 1588,  101,    0,    0,    0,    0,    0,    0,    0,    0,\n",
       "          0,    0,    0,    0,    0,    0,    0,    0,    0,    0,    0,\n",
       "          0,    0,    0,    0,    0,    0,    0,    0,    0,    0,    0,\n",
       "          0,    0,    0,    0,    0,    0,    0,    0], dtype=int32)"
      ]
     },
     "execution_count": 26,
     "metadata": {},
     "output_type": "execute_result"
    }
   ],
   "source": [
    "padded_train[0]"
   ]
  },
  {
   "cell_type": "markdown",
   "id": "b308f24d",
   "metadata": {},
   "source": [
    "The high sequence length value results in sequences like this, which contain a large amount of padding tokens.This can negatively affect the RNN's performance because these 0's can overload the RNN cell's short-term memory and cause it to forget the tokens at the start of the sequence. To solve this I will add masking to the embedding layer."
   ]
  },
  {
   "cell_type": "markdown",
   "id": "a630e312",
   "metadata": {},
   "source": [
    "## B4"
   ]
  },
  {
   "cell_type": "markdown",
   "id": "73d8770e",
   "metadata": {},
   "source": [
    "The final dense layer of the network will use sigmoid as its activation function and have 2 categories of sentiment, 0 for negative and 1 for positive"
   ]
  },
  {
   "cell_type": "markdown",
   "id": "3c29565f",
   "metadata": {},
   "source": [
    "## B6"
   ]
  },
  {
   "cell_type": "code",
   "execution_count": 27,
   "id": "0f569ac4",
   "metadata": {},
   "outputs": [],
   "source": [
    "df.to_csv('PA2_cleaned_data.csv')"
   ]
  },
  {
   "cell_type": "markdown",
   "id": "3f3a86b7",
   "metadata": {},
   "source": [
    "# Part III: Network Architecture"
   ]
  },
  {
   "cell_type": "markdown",
   "id": "c2190247",
   "metadata": {},
   "source": [
    "## C1"
   ]
  },
  {
   "cell_type": "code",
   "execution_count": 28,
   "id": "355975bb",
   "metadata": {},
   "outputs": [],
   "source": [
    "def build_model(hp):\n",
    "    n_hidden = hp.Int(\"n_hidden\", min_value=0, max_value=8)\n",
    "    n_neurons = hp.Int(\"n_neurons\", min_value=16, max_value=256)\n",
    "    learning_rate = hp.Float(\"learning_rate\", min_value=1e-4, max_value=1e-2, sampling=\"log\")\n",
    "    optimizer = optimizers.Nadam(learning_rate=learning_rate)\n",
    "    \n",
    "    model = Sequential()\n",
    "    model.add(layers.Embedding(vocab_size, embedding_len, mask_zero=True))\n",
    "    model.add(layers.GRU(n_neurons))\n",
    "    for _ in range(n_hidden):\n",
    "        model.add(layers.Dense(n_neurons, activation=\"relu\"))\n",
    "    model.add(layers.Dense(1, activation=\"sigmoid\"))\n",
    "    model.compile(loss=\"binary_crossentropy\", optimizer=optimizer, metrics=[\"accuracy\"])\n",
    "    return model"
   ]
  },
  {
   "cell_type": "code",
   "execution_count": 31,
   "id": "67c7e18c",
   "metadata": {
    "scrolled": true
   },
   "outputs": [
    {
     "name": "stdout",
     "output_type": "stream",
     "text": [
      "Trial 60 Complete [00h 00m 18s]\n",
      "val_accuracy: 0.7488889098167419\n",
      "\n",
      "Best val_accuracy So Far: 0.8022222518920898\n",
      "Total elapsed time: 00h 26m 31s\n",
      "INFO:tensorflow:Oracle triggered exit\n"
     ]
    }
   ],
   "source": [
    "early_stopping_cb = EarlyStopping(patience=2)\n",
    "random_search_tuner = kt.Hyperband(\n",
    "    build_model, objective=\"val_accuracy\", overwrite=True,\n",
    "    directory=\"hp_search_results\", project_name=\"d213_task2\", seed=2,\n",
    "    max_epochs=10, factor=3, hyperband_iterations=2)\n",
    "\n",
    "random_search_tuner.search(padded_train, y_train, epochs=10,\n",
    "                           validation_data=(padded_val, y_val),\n",
    "                          callbacks=[early_stopping_cb])"
   ]
  },
  {
   "cell_type": "code",
   "execution_count": 304,
   "id": "fbd9202e",
   "metadata": {},
   "outputs": [
    {
     "name": "stdout",
     "output_type": "stream",
     "text": [
      "Trial summary\n",
      "Hyperparameters:\n",
      "n_hidden: 4\n",
      "n_neurons: 74\n",
      "learning_rate: 0.00905127409782462\n",
      "tuner/epochs: 4\n",
      "tuner/initial_epoch: 0\n",
      "tuner/bracket: 1\n",
      "tuner/round: 0\n",
      "Score: 0.8022222518920898\n"
     ]
    }
   ],
   "source": [
    "best_trial = random_search_tuner.oracle.get_best_trials(num_trials=1)[0]\n",
    "best_trial.summary()"
   ]
  },
  {
   "cell_type": "code",
   "execution_count": 305,
   "id": "b45f671f",
   "metadata": {},
   "outputs": [
    {
     "name": "stdout",
     "output_type": "stream",
     "text": [
      "Model: \"sequential\"\n",
      "_________________________________________________________________\n",
      " Layer (type)                Output Shape              Param #   \n",
      "=================================================================\n",
      " embedding (Embedding)       (None, None, 8)           33440     \n",
      "                                                                 \n",
      " gru (GRU)                   (None, 74)                18648     \n",
      "                                                                 \n",
      " dense (Dense)               (None, 74)                5550      \n",
      "                                                                 \n",
      " dense_1 (Dense)             (None, 74)                5550      \n",
      "                                                                 \n",
      " dense_2 (Dense)             (None, 74)                5550      \n",
      "                                                                 \n",
      " dense_3 (Dense)             (None, 74)                5550      \n",
      "                                                                 \n",
      " dense_4 (Dense)             (None, 1)                 75        \n",
      "                                                                 \n",
      "=================================================================\n",
      "Total params: 74,363\n",
      "Trainable params: 74,363\n",
      "Non-trainable params: 0\n",
      "_________________________________________________________________\n"
     ]
    }
   ],
   "source": [
    "best_model = random_search_tuner.get_best_models(num_models=1)[0]\n",
    "best_model.summary()"
   ]
  },
  {
   "cell_type": "markdown",
   "id": "6e635e93",
   "metadata": {},
   "source": [
    "## C3 f."
   ]
  },
  {
   "cell_type": "code",
   "execution_count": 306,
   "id": "40c9a968",
   "metadata": {},
   "outputs": [],
   "source": [
    "train_acc = best_trial.metrics.get_history('accuracy')[0].value[0]\n",
    "train_loss = best_trial.metrics.get_history('loss')[0].value[0]\n",
    "\n",
    "val_acc = best_trial.metrics.get_history('val_accuracy')[0].value[0]\n",
    "val_loss = best_trial.metrics.get_history('val_loss')[0].value[0]"
   ]
  },
  {
   "cell_type": "code",
   "execution_count": 307,
   "id": "3da3c9b6",
   "metadata": {},
   "outputs": [
    {
     "name": "stdout",
     "output_type": "stream",
     "text": [
      "Train loss: 0.05877332016825676 / Train accuracy: 0.9814285635948181\n",
      "\n",
      "Validatoin loss: 0.6778173446655273 / Validation accuracy: 0.8022222518920898\n",
      "\n",
      "Test loss: 0.7015459537506104 / Test accuracy: 0.8066666722297668\n"
     ]
    }
   ],
   "source": [
    "print(f\"Train loss: {train_loss} / Train accuracy: {train_acc}\")\n",
    "print()\n",
    "print(f\"Validatoin loss: {val_loss} / Validation accuracy: {val_acc}\")\n",
    "print()\n",
    "score = best_model.evaluate(padded_test, y_test, verbose=0)\n",
    "print(f\"Test loss: {score[0]} / Test accuracy: {score[1]}\")"
   ]
  },
  {
   "cell_type": "markdown",
   "id": "fb802497",
   "metadata": {},
   "source": [
    "## D1"
   ]
  },
  {
   "cell_type": "code",
   "execution_count": 267,
   "id": "846a9a91",
   "metadata": {},
   "outputs": [],
   "source": [
    "new_model = Sequential().from_config(best_model.get_config())\n",
    "new_model.compile(loss=\"binary_crossentropy\", optimizer=best_model.optimizer, metrics=[\"accuracy\"])"
   ]
  },
  {
   "cell_type": "code",
   "execution_count": 268,
   "id": "5cde4d32",
   "metadata": {},
   "outputs": [
    {
     "name": "stdout",
     "output_type": "stream",
     "text": [
      "Epoch 1/10\n",
      "66/66 [==============================] - 5s 55ms/step - loss: 0.9750 - accuracy: 0.4929 - val_loss: 0.6910 - val_accuracy: 0.5067\n",
      "Epoch 2/10\n",
      "66/66 [==============================] - 2s 34ms/step - loss: 0.6926 - accuracy: 0.5500 - val_loss: 0.6730 - val_accuracy: 0.6133\n",
      "Epoch 3/10\n",
      "66/66 [==============================] - 2s 33ms/step - loss: 0.5234 - accuracy: 0.7619 - val_loss: 0.5256 - val_accuracy: 0.7822\n",
      "Epoch 4/10\n",
      "66/66 [==============================] - 2s 37ms/step - loss: 0.1917 - accuracy: 0.9324 - val_loss: 0.7043 - val_accuracy: 0.7333\n",
      "Epoch 5/10\n",
      "66/66 [==============================] - 2s 30ms/step - loss: 0.0852 - accuracy: 0.9714 - val_loss: 0.7154 - val_accuracy: 0.7911\n"
     ]
    }
   ],
   "source": [
    "history = new_model.fit(padded_train, y_train, epochs=10,\n",
    "                           validation_data=(padded_val, y_val), callbacks=[early_stopping_cb])"
   ]
  },
  {
   "cell_type": "markdown",
   "id": "005fc6e6",
   "metadata": {},
   "source": [
    "## D2"
   ]
  },
  {
   "cell_type": "code",
   "execution_count": 280,
   "id": "4ea5f395",
   "metadata": {},
   "outputs": [],
   "source": [
    "acc_history = history.history['accuracy']\n",
    "train_loss_history = history.history['loss']\n",
    "\n",
    "val_history = history.history['val_accuracy']\n",
    "val_loss_history = history.history['val_loss']\n"
   ]
  },
  {
   "cell_type": "code",
   "execution_count": 281,
   "id": "1424c60c",
   "metadata": {},
   "outputs": [
    {
     "data": {
      "image/png": "[encoded data removed]",
      "text/plain": [
       "<Figure size 640x480 with 1 Axes>"
      ]
     },
     "metadata": {},
     "output_type": "display_data"
    }
   ],
   "source": [
    "epochs = list(range(1,len(acc_history)+1))\n",
    "plt.plot(epochs, acc_history, label = \"training accuracy\")\n",
    "plt.plot(epochs, val_history, label = \"validation accuracy\")\n",
    "plt.xlabel('Epochs')\n",
    "plt.ylabel('Accuracy')\n",
    "plt.legend()\n",
    "plt.show()"
   ]
  },
  {
   "cell_type": "code",
   "execution_count": 283,
   "id": "175c4b90",
   "metadata": {},
   "outputs": [
    {
     "data": {
      "image/png": "[encoded data removed]",
      "text/plain": [
       "<Figure size 640x480 with 1 Axes>"
      ]
     },
     "metadata": {},
     "output_type": "display_data"
    }
   ],
   "source": [
    "epochs = list(range(1,len(acc_history)+1))\n",
    "plt.plot(epochs, train_loss_history, label = \"training loss\")\n",
    "plt.plot(epochs, val_loss_history, label = \"validation loss\")\n",
    "plt.xlabel('Epochs')\n",
    "plt.ylabel('Loss')\n",
    "plt.legend()\n",
    "plt.show()"
   ]
  },
  {
   "cell_type": "markdown",
   "id": "cb84153b",
   "metadata": {},
   "source": [
    "# Part V: Summary and Recommendations"
   ]
  },
  {
   "cell_type": "markdown",
   "id": "0797346d",
   "metadata": {},
   "source": [
    "## E"
   ]
  },
  {
   "cell_type": "code",
   "execution_count": 312,
   "id": "190c290d",
   "metadata": {},
   "outputs": [],
   "source": [
    "best_model.save('SentimentAnalysisModel.h5')"
   ]
  },
  {
   "cell_type": "markdown",
   "id": "6cb1f0b4",
   "metadata": {},
   "source": [
    "## G"
   ]
  },
  {
   "cell_type": "markdown",
   "id": "29e87e1e",
   "metadata": {},
   "source": [
    "The neural network can adequately predict the sentiment of reviews from three different sources, all pertaining to different types of services. I would recommend this model for any organization with similar services that needs sentiment analysis as the model generalizes well and will only get better with more training data and improvements made to address overfitting."
   ]
  },
  {
   "cell_type": "code",
   "execution_count": null,
   "id": "d390cd2c",
   "metadata": {},
   "outputs": [],
   "source": []
  }
 ],
 "metadata": {
  "kernelspec": {
   "display_name": "Python 3 (ipykernel)",
   "language": "python",
   "name": "python3"
  },
  "language_info": {
   "codemirror_mode": {
    "name": "ipython",
    "version": 3
   },
   "file_extension": ".py",
   "mimetype": "text/x-python",
   "name": "python",
   "nbconvert_exporter": "python",
   "pygments_lexer": "ipython3",
   "version": "3.10.9"
  }
 },
 "nbformat": 4,
 "nbformat_minor": 5
}
